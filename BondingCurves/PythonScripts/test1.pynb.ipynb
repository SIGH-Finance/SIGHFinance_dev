{
 "cells": [
  {
   "cell_type": "markdown",
   "source": [
    "#0. Dependencies"
   ],
   "metadata": {
    "collapsed": false
   }
  },
  {
   "cell_type": "code",
   "execution_count": 2,
   "outputs": [],
   "source": [
    "import math\n",
    "import pandas as pd"
   ],
   "metadata": {
    "collapsed": false,
    "pycharm": {
     "name": "#%%\n"
    }
   }
  },
  {
   "cell_type": "code",
   "execution_count": 3,
   "outputs": [],
   "source": [
    "# cadCAD configuration modules\n",
    "from cadCAD.configuration.utils import config_sim\n",
    "from cadCAD.configuration import Experiment\n",
    "\n",
    "# cadCAD simulation engine modules\n",
    "from cadCAD.engine import ExecutionMode, ExecutionContext\n",
    "from cadCAD.engine import Executor"
   ],
   "metadata": {
    "collapsed": false,
    "pycharm": {
     "name": "#%%\n"
    }
   }
  },
  {
   "cell_type": "markdown",
   "source": [
    "#1. STATE VARIABLES\n",
    "A state variable is one of the set of variables that are used to describe the mathematical\n",
    "\"state\" of a dynamical system."
   ],
   "metadata": {
    "collapsed": false
   }
  },
  {
   "cell_type": "code",
   "execution_count": 4,
   "outputs": [
    {
     "data": {
      "text/plain": "{'population': 50, 'food': 1000}"
     },
     "execution_count": 4,
     "metadata": {},
     "output_type": "execute_result"
    }
   ],
   "source": [
    "initial_state = {'population':50, 'food':1000 }\n",
    "initial_state"
   ],
   "metadata": {
    "collapsed": false,
    "pycharm": {
     "name": "#%%\n"
    }
   }
  },
  {
   "cell_type": "markdown",
   "source": [
    "#2. SYSTEM PARAMETERS\n",
    "It is the process of choosing parameters that impact the behaviour of the\n",
    "model. These parameters allow us to perform simulation techniques like\n",
    "parameter sweeps, Monte Carlo simulations, A/B tests, and see how the system\n",
    "behaves under a different model paramter set."
   ],
   "metadata": {
    "collapsed": false
   }
  },
  {
   "cell_type": "code",
   "execution_count": 5,
   "outputs": [
    {
     "data": {
      "text/plain": "{'reproduction_rate': 0.01, 'consumption_rate': 0.01}"
     },
     "execution_count": 5,
     "metadata": {},
     "output_type": "execute_result"
    }
   ],
   "source": [
    "system_params = { 'reproduction_rate': 0.01, 'consumption_rate':0.01 }\n",
    "system_params"
   ],
   "metadata": {
    "collapsed": false,
    "pycharm": {
     "name": "#%%\n"
    }
   }
  },
  {
   "cell_type": "markdown",
   "source": [
    "#3. POLICY FUNCTIONS\n",
    "A policy function computes one or more signals to be passed to State Update\n",
    "Functions. They describe the logic and behaviour of a system component or\n",
    "mechanism."
   ],
   "metadata": {
    "collapsed": false
   }
  },
  {
   "cell_type": "markdown",
   "source": [
    "#4. STATE UPDATE FUNCTIONS\n",
    "We create State Update Functions to design the way our model state changes\n",
    "over time. These will usually represent the system differential specification.\n",
    "\n",
    "Technically, state update functions are regular python functions that take\n",
    "5 arguments as input and then return a python tuple. Eq -\n",
    "\n",
    "def state_update_function(params,substep,state_history, previous_state, policy_input):\n",
    "    variable_value = 0\n",
    "    return 'variable_name', variable_value\n",
    "\n",
    "--> Params : A python dictionary containing system parameters.\n",
    "--> substep : An integer value representing a step within a single timestep\n",
    "--> state_history : A python list of all previous states\n",
    "--> previous_state : A python dict. that defines what the state of the system\n",
    "    was at the previous timestep.\n",
    "--> policy_input : A python dict. of signals / actions from policy functions."
   ],
   "metadata": {
    "collapsed": false,
    "pycharm": {
     "name": "#%% md\n"
    }
   }
  },
  {
   "cell_type": "code",
   "execution_count": 6,
   "outputs": [],
   "source": [
    "def new_population(_current_population, _alpha, _food_supply) :\n",
    "    \"\"\"\n",
    "    The population state after 1 timestep, according to the differential equation (1):\n",
    "    current_population + alpha * food_supply\n",
    "    \"\"\"\n",
    "    return math.ceil(_current_population + _alpha * _food_supply)"
   ],
   "metadata": {
    "collapsed": false,
    "pycharm": {
     "name": "#%%\n"
    }
   }
  },
  {
   "cell_type": "code",
   "execution_count": 7,
   "outputs": [
    {
     "data": {
      "text/plain": "60"
     },
     "execution_count": 7,
     "metadata": {},
     "output_type": "execute_result"
    }
   ],
   "source": [
    "# Relevant state variables\n",
    "current_population = initial_state['population']\n",
    "food_supply = initial_state['food']\n",
    "\n",
    "#Relevant parameters\n",
    "reproduction_rate = system_params['reproduction_rate']\n",
    "\n",
    "new_population(current_population,reproduction_rate,food_supply)"
   ],
   "metadata": {
    "collapsed": false,
    "pycharm": {
     "name": "#%%\n"
    }
   }
  },
  {
   "cell_type": "code",
   "execution_count": 8,
   "outputs": [],
   "source": [
    "def s_population(params, substep, state_history, previous_state, policy_input):\n",
    "    \"\"\"\n",
    "    Update the population state according to the differential equation (1):\n",
    "    current_population + alpha * food_supply\n",
    "    \"\"\"\n",
    "    population = previous_state['population']\n",
    "    alpha = params['reproduction_rate']\n",
    "    food_supply = previous_state['food']\n",
    "\n",
    "    return 'population',max(new_population(population,alpha,food_supply),0)"
   ],
   "metadata": {
    "collapsed": false,
    "pycharm": {
     "name": "#%%\n"
    }
   }
  },
  {
   "cell_type": "code",
   "execution_count": 9,
   "outputs": [],
   "source": [
    "def s_food(params, substep, state_history, previous_state, policy_input):\n",
    "    \"\"\"\n",
    "    Update the food supply state according to the differential equation (2):\n",
    "    food_supply - beta * population\n",
    "    \"\"\"\n",
    "    food = previous_state['food'] - params['consumption_rate'] * previous_state['population']\n",
    "    return 'food',max(food,0)"
   ],
   "metadata": {
    "collapsed": false,
    "pycharm": {
     "name": "#%%\n"
    }
   }
  },
  {
   "cell_type": "markdown",
   "source": [
    "#5. PARTIAL STATE UPDATE BLOCKS\n",
    "Tying it All Together : A Series of Partial State Update Blocks is a structure for composing State Update Functions and\n",
    "policy functions in series or parallel, as a representation of the system model.\n",
    "In one Time-step, multiple state updates could occur. These updates can either be run in series, or parallel at the\n",
    "same-time.\n",
    "So a set of partial state update blocks represents the structure of the entire model, and all updates are run during\n",
    "a single time-step.\n",
    "A single partial state update block represents 1 sub-step. Together they make 1 time-step.\n",
    "\n",
    "So, a python data structure to represent a set of 2 partial state update blocks is a list of 2 python dictionaries.\n",
    "State update functions in a single block have access to the same previous state, run at the same time."
   ],
   "metadata": {
    "collapsed": false
   }
  },
  {
   "cell_type": "code",
   "source": [
    "# UPDATES RUN IN SERIES\n",
    "partial_state_update_blocks = [\n",
    "    #Run first\n",
    "    {\n",
    "        'policies': {},\n",
    "        # State variables\n",
    "        'variables': {\n",
    "            'population': s_population\n",
    "        }\n",
    "    },\n",
    "    #Run Second\n",
    "    {\n",
    "        'policies': {},\n",
    "        # State variables\n",
    "        'variables': {\n",
    "            'food': s_food\n",
    "        }\n",
    "    }\n",
    "]"
   ],
   "metadata": {
    "collapsed": false,
    "pycharm": {
     "name": "#%%\n"
    }
   },
   "execution_count": 10,
   "outputs": []
  },
  {
   "cell_type": "code",
   "execution_count": 11,
   "outputs": [],
   "source": [
    "# UPDATES RUN IN PARALLEL\n",
    "partial_state_update_blocks = [\n",
    "    {\n",
    "        'policies': {},\n",
    "        # State variables\n",
    "        'variables': {\n",
    "            'population': s_population,\n",
    "            'food': s_food\n",
    "        }\n",
    "    }\n",
    "]"
   ],
   "metadata": {
    "collapsed": false,
    "pycharm": {
     "name": "#%%\n"
    }
   }
  },
  {
   "cell_type": "markdown",
   "source": [
    "#6. CONFIGURATION\n",
    "The configuration state is about tying all the previous model components together and choosing how the simulation should run.\n",
    "MODELLING : State Variables --> System Parameters --> Policy Functions --> State Update Functions --> Partial State Update Blocks\n",
    "SIMULATION : CONFIGURATION --> EXECUTION --> OUTPUT PREPARATION --> ANALYSIS\n",
    "\n",
    "cadCAD allows everyone to configure a number of simulation configuration parameters. We have :\n",
    "--> 'N', which is the number of times we will run the simulation, called \"Monte Carlo runs\", when we will later look\n",
    "at tools to analyze system models\n",
    "--> 'T', which is the number of times the simulation will run for\n",
    "--> 'M', which is M, the parameters of the system\n"
   ],
   "metadata": {
    "collapsed": false,
    "pycharm": {
     "name": "#%% md\n"
    }
   }
  },
  {
   "cell_type": "code",
   "execution_count": 12,
   "outputs": [
    {
     "ename": "TypeError",
     "evalue": "object of type 'float' has no len()",
     "output_type": "error",
     "traceback": [
      "\u001B[0;31m---------------------------------------------------------------------------\u001B[0m",
      "\u001B[0;31mTypeError\u001B[0m                                 Traceback (most recent call last)",
      "\u001B[0;32m<ipython-input-12-705a15cfbcc1>\u001B[0m in \u001B[0;36m<module>\u001B[0;34m\u001B[0m\n\u001B[1;32m      3\u001B[0m     \u001B[0;34m\"N\"\u001B[0m \u001B[0;34m:\u001B[0m \u001B[0;36m1\u001B[0m\u001B[0;34m,\u001B[0m\u001B[0;34m\u001B[0m\u001B[0;34m\u001B[0m\u001B[0m\n\u001B[1;32m      4\u001B[0m     \u001B[0;34m\"T\"\u001B[0m \u001B[0;34m:\u001B[0m \u001B[0mrange\u001B[0m\u001B[0;34m(\u001B[0m\u001B[0;36m400\u001B[0m\u001B[0;34m)\u001B[0m\u001B[0;34m,\u001B[0m\u001B[0;34m\u001B[0m\u001B[0;34m\u001B[0m\u001B[0m\n\u001B[0;32m----> 5\u001B[0;31m     \u001B[0;34m\"M\"\u001B[0m \u001B[0;34m:\u001B[0m \u001B[0msystem_params\u001B[0m\u001B[0;34m\u001B[0m\u001B[0;34m\u001B[0m\u001B[0m\n\u001B[0m\u001B[1;32m      6\u001B[0m })\n\u001B[1;32m      7\u001B[0m \u001B[0;34m\u001B[0m\u001B[0m\n",
      "\u001B[0;32m~/Desktop/GITCOIN/Sigh_Finance/BondingCurves/venv/lib/python3.7/site-packages/cadCAD/configuration/utils/__init__.py\u001B[0m in \u001B[0;36mconfig_sim\u001B[0;34m(d)\u001B[0m\n\u001B[1;32m    163\u001B[0m \u001B[0;34m\u001B[0m\u001B[0m\n\u001B[1;32m    164\u001B[0m     \u001B[0;32mif\u001B[0m \u001B[0;34m\"M\"\u001B[0m \u001B[0;32min\u001B[0m \u001B[0md\u001B[0m\u001B[0;34m:\u001B[0m\u001B[0;34m\u001B[0m\u001B[0;34m\u001B[0m\u001B[0m\n\u001B[0;32m--> 165\u001B[0;31m         \u001B[0;32mreturn\u001B[0m \u001B[0;34m[\u001B[0m\u001B[0;34m{\u001B[0m\u001B[0;34m\"N\"\u001B[0m\u001B[0;34m:\u001B[0m \u001B[0md\u001B[0m\u001B[0;34m[\u001B[0m\u001B[0;34m\"N\"\u001B[0m\u001B[0;34m]\u001B[0m\u001B[0;34m,\u001B[0m \u001B[0;34m\"T\"\u001B[0m\u001B[0;34m:\u001B[0m \u001B[0md\u001B[0m\u001B[0;34m[\u001B[0m\u001B[0;34m\"T\"\u001B[0m\u001B[0;34m]\u001B[0m\u001B[0;34m,\u001B[0m \u001B[0;34m\"M\"\u001B[0m\u001B[0;34m:\u001B[0m \u001B[0mM\u001B[0m\u001B[0;34m}\u001B[0m \u001B[0;32mfor\u001B[0m \u001B[0mM\u001B[0m \u001B[0;32min\u001B[0m \u001B[0mprocess_variables\u001B[0m\u001B[0;34m(\u001B[0m\u001B[0md\u001B[0m\u001B[0;34m[\u001B[0m\u001B[0;34m\"M\"\u001B[0m\u001B[0;34m]\u001B[0m\u001B[0;34m)\u001B[0m\u001B[0;34m]\u001B[0m\u001B[0;34m\u001B[0m\u001B[0;34m\u001B[0m\u001B[0m\n\u001B[0m\u001B[1;32m    166\u001B[0m     \u001B[0;32melse\u001B[0m\u001B[0;34m:\u001B[0m\u001B[0;34m\u001B[0m\u001B[0;34m\u001B[0m\u001B[0m\n\u001B[1;32m    167\u001B[0m         \u001B[0md\u001B[0m\u001B[0;34m[\u001B[0m\u001B[0;34m\"M\"\u001B[0m\u001B[0;34m]\u001B[0m \u001B[0;34m=\u001B[0m \u001B[0;34m[\u001B[0m\u001B[0;34m{\u001B[0m\u001B[0;34m}\u001B[0m\u001B[0;34m]\u001B[0m\u001B[0;34m\u001B[0m\u001B[0;34m\u001B[0m\u001B[0m\n",
      "\u001B[0;32m~/Desktop/GITCOIN/Sigh_Finance/BondingCurves/venv/lib/python3.7/site-packages/cadCAD/configuration/utils/__init__.py\u001B[0m in \u001B[0;36mprocess_variables\u001B[0;34m(d)\u001B[0m\n\u001B[1;32m    160\u001B[0m \u001B[0;32mdef\u001B[0m \u001B[0mconfig_sim\u001B[0m\u001B[0;34m(\u001B[0m\u001B[0md\u001B[0m\u001B[0;34m)\u001B[0m\u001B[0;34m:\u001B[0m\u001B[0;34m\u001B[0m\u001B[0;34m\u001B[0m\u001B[0m\n\u001B[1;32m    161\u001B[0m     \u001B[0;32mdef\u001B[0m \u001B[0mprocess_variables\u001B[0m\u001B[0;34m(\u001B[0m\u001B[0md\u001B[0m\u001B[0;34m)\u001B[0m\u001B[0;34m:\u001B[0m\u001B[0;34m\u001B[0m\u001B[0;34m\u001B[0m\u001B[0m\n\u001B[0;32m--> 162\u001B[0;31m         \u001B[0;32mreturn\u001B[0m \u001B[0mflatten_tabulated_dict\u001B[0m\u001B[0;34m(\u001B[0m\u001B[0mtabulate_dict\u001B[0m\u001B[0;34m(\u001B[0m\u001B[0md\u001B[0m\u001B[0;34m)\u001B[0m\u001B[0;34m)\u001B[0m\u001B[0;34m\u001B[0m\u001B[0;34m\u001B[0m\u001B[0m\n\u001B[0m\u001B[1;32m    163\u001B[0m \u001B[0;34m\u001B[0m\u001B[0m\n\u001B[1;32m    164\u001B[0m     \u001B[0;32mif\u001B[0m \u001B[0;34m\"M\"\u001B[0m \u001B[0;32min\u001B[0m \u001B[0md\u001B[0m\u001B[0;34m:\u001B[0m\u001B[0;34m\u001B[0m\u001B[0;34m\u001B[0m\u001B[0m\n",
      "\u001B[0;32m~/Desktop/GITCOIN/Sigh_Finance/BondingCurves/venv/lib/python3.7/site-packages/cadCAD/utils/__init__.py\u001B[0m in \u001B[0;36mtabulate_dict\u001B[0;34m(d)\u001B[0m\n\u001B[1;32m     87\u001B[0m \u001B[0;34m\u001B[0m\u001B[0m\n\u001B[1;32m     88\u001B[0m \u001B[0;32mdef\u001B[0m \u001B[0mtabulate_dict\u001B[0m\u001B[0;34m(\u001B[0m\u001B[0md\u001B[0m\u001B[0;34m:\u001B[0m \u001B[0mDict\u001B[0m\u001B[0;34m[\u001B[0m\u001B[0mstr\u001B[0m\u001B[0;34m,\u001B[0m \u001B[0mList\u001B[0m\u001B[0;34m[\u001B[0m\u001B[0mint\u001B[0m\u001B[0;34m]\u001B[0m\u001B[0;34m]\u001B[0m\u001B[0;34m)\u001B[0m \u001B[0;34m->\u001B[0m \u001B[0mDict\u001B[0m\u001B[0;34m[\u001B[0m\u001B[0mstr\u001B[0m\u001B[0;34m,\u001B[0m \u001B[0mList\u001B[0m\u001B[0;34m[\u001B[0m\u001B[0mint\u001B[0m\u001B[0;34m]\u001B[0m\u001B[0;34m]\u001B[0m\u001B[0;34m:\u001B[0m\u001B[0;34m\u001B[0m\u001B[0;34m\u001B[0m\u001B[0m\n\u001B[0;32m---> 89\u001B[0;31m     \u001B[0mmax_len\u001B[0m \u001B[0;34m=\u001B[0m \u001B[0mget_max_dict_val_len\u001B[0m\u001B[0;34m(\u001B[0m\u001B[0md\u001B[0m\u001B[0;34m)\u001B[0m\u001B[0;34m\u001B[0m\u001B[0;34m\u001B[0m\u001B[0m\n\u001B[0m\u001B[1;32m     90\u001B[0m     \u001B[0m_d\u001B[0m \u001B[0;34m=\u001B[0m \u001B[0;34m{\u001B[0m\u001B[0;34m}\u001B[0m\u001B[0;34m\u001B[0m\u001B[0;34m\u001B[0m\u001B[0m\n\u001B[1;32m     91\u001B[0m     \u001B[0;32mfor\u001B[0m \u001B[0mk\u001B[0m\u001B[0;34m,\u001B[0m \u001B[0mvl\u001B[0m \u001B[0;32min\u001B[0m \u001B[0md\u001B[0m\u001B[0;34m.\u001B[0m\u001B[0mitems\u001B[0m\u001B[0;34m(\u001B[0m\u001B[0;34m)\u001B[0m\u001B[0;34m:\u001B[0m\u001B[0;34m\u001B[0m\u001B[0;34m\u001B[0m\u001B[0m\n",
      "\u001B[0;32m~/Desktop/GITCOIN/Sigh_Finance/BondingCurves/venv/lib/python3.7/site-packages/cadCAD/utils/__init__.py\u001B[0m in \u001B[0;36mget_max_dict_val_len\u001B[0;34m(g)\u001B[0m\n\u001B[1;32m     83\u001B[0m \u001B[0;34m\u001B[0m\u001B[0m\n\u001B[1;32m     84\u001B[0m \u001B[0;32mdef\u001B[0m \u001B[0mget_max_dict_val_len\u001B[0m\u001B[0;34m(\u001B[0m\u001B[0mg\u001B[0m\u001B[0;34m:\u001B[0m \u001B[0mDict\u001B[0m\u001B[0;34m[\u001B[0m\u001B[0mstr\u001B[0m\u001B[0;34m,\u001B[0m \u001B[0mList\u001B[0m\u001B[0;34m[\u001B[0m\u001B[0mint\u001B[0m\u001B[0;34m]\u001B[0m\u001B[0;34m]\u001B[0m\u001B[0;34m)\u001B[0m \u001B[0;34m->\u001B[0m \u001B[0mint\u001B[0m\u001B[0;34m:\u001B[0m\u001B[0;34m\u001B[0m\u001B[0;34m\u001B[0m\u001B[0m\n\u001B[0;32m---> 85\u001B[0;31m     \u001B[0;32mreturn\u001B[0m \u001B[0mlen\u001B[0m\u001B[0;34m(\u001B[0m\u001B[0mmax\u001B[0m\u001B[0;34m(\u001B[0m\u001B[0mg\u001B[0m\u001B[0;34m.\u001B[0m\u001B[0mvalues\u001B[0m\u001B[0;34m(\u001B[0m\u001B[0;34m)\u001B[0m\u001B[0;34m,\u001B[0m \u001B[0mkey\u001B[0m\u001B[0;34m=\u001B[0m\u001B[0mlen\u001B[0m\u001B[0;34m)\u001B[0m\u001B[0;34m)\u001B[0m\u001B[0;34m\u001B[0m\u001B[0;34m\u001B[0m\u001B[0m\n\u001B[0m\u001B[1;32m     86\u001B[0m \u001B[0;34m\u001B[0m\u001B[0m\n\u001B[1;32m     87\u001B[0m \u001B[0;34m\u001B[0m\u001B[0m\n",
      "\u001B[0;31mTypeError\u001B[0m: object of type 'float' has no len()"
     ]
    }
   ],
   "source": [
    "# config_sim function was imported earlier. It informs cadCAD about the scope of the simulation.\n",
    "sim_config = config_sim({\n",
    "    \"N\" : 1,\n",
    "    \"T\" : range(400),\n",
    "    \"M\" : system_params\n",
    "})"
   ],
   "metadata": {
    "collapsed": false,
    "pycharm": {
     "name": "#%%\n"
    }
   }
  },
  {
   "cell_type": "code",
   "execution_count": 27,
   "outputs": [],
   "source": [
    "from cadCAD import configs\n",
    "#cadCAD stores simulation configuration in a variable called configs, which is a list. So we use del configs[:]\n",
    "# to delete any / all configurations before we continue.\n",
    "del configs[:] # Clear any prior configs"
   ],
   "metadata": {
    "collapsed": false,
    "pycharm": {
     "name": "#%%\n"
    }
   }
  },
  {
   "cell_type": "code",
   "execution_count": 28,
   "outputs": [
    {
     "ename": "NameError",
     "evalue": "name 'sim_config' is not defined",
     "output_type": "error",
     "traceback": [
      "\u001B[0;31m---------------------------------------------------------------------------\u001B[0m",
      "\u001B[0;31mNameError\u001B[0m                                 Traceback (most recent call last)",
      "\u001B[0;32m<ipython-input-28-9fd4b1e6c883>\u001B[0m in \u001B[0;36m<module>\u001B[0;34m\u001B[0m\n\u001B[1;32m      6\u001B[0m     \u001B[0minitial_state\u001B[0m \u001B[0;34m=\u001B[0m \u001B[0minitial_state\u001B[0m\u001B[0;34m,\u001B[0m\u001B[0;34m\u001B[0m\u001B[0;34m\u001B[0m\u001B[0m\n\u001B[1;32m      7\u001B[0m     \u001B[0mpartial_state_update_blocks\u001B[0m\u001B[0;34m=\u001B[0m \u001B[0mpartial_state_update_blocks\u001B[0m\u001B[0;34m,\u001B[0m\u001B[0;34m\u001B[0m\u001B[0;34m\u001B[0m\u001B[0m\n\u001B[0;32m----> 8\u001B[0;31m     \u001B[0msim_configs\u001B[0m \u001B[0;34m=\u001B[0m \u001B[0msim_config\u001B[0m\u001B[0;34m\u001B[0m\u001B[0;34m\u001B[0m\u001B[0m\n\u001B[0m\u001B[1;32m      9\u001B[0m )\n\u001B[1;32m     10\u001B[0m \u001B[0;31m# The config object is what the cadCAD Executor uses to understand what to run.\u001B[0m\u001B[0;34m\u001B[0m\u001B[0;34m\u001B[0m\u001B[0;34m\u001B[0m\u001B[0m\n",
      "\u001B[0;31mNameError\u001B[0m: name 'sim_config' is not defined"
     ]
    }
   ],
   "source": [
    "# here we are adding initial state, partial state update blocks and sim config to the cadCAD Context.\n",
    "experiment = Experiment()\n",
    "# so each cadCAD experiment has configuration options which we will pass to the append configs function to create\n",
    "# our simulation configuration\n",
    "experiment.append_configs(\n",
    "    initial_state = initial_state,\n",
    "    partial_state_update_blocks= partial_state_update_blocks,\n",
    "    sim_configs = sim_config\n",
    ")\n",
    "# The config object is what the cadCAD Executor uses to understand what to run.\n",
    "configs[-1].dict_"
   ],
   "metadata": {
    "collapsed": false,
    "pycharm": {
     "name": "#%%\n"
    }
   }
  },
  {
   "cell_type": "markdown",
   "source": [
    "#7. EXECUTION\n",
    "cadCAD has an engine that runs the simulations. This is the core of cadCAD. It takes our model and configuration\n",
    "and gives us our simulation results after 'T' time-steps.\n",
    "So we create an ExecutionContext, and the ExecutionContext decides how the cadCAD should run the simulation. The\n",
    "default automatically selects between single-threaded or multi-threaded modes, to optimize the performance of the\n",
    "simulation, or how fast it runs!\n",
    "\n",
    "Configuring the cadCAD simulation execution"
   ],
   "metadata": {
    "collapsed": false
   }
  },
  {
   "cell_type": "code",
   "execution_count": 13,
   "outputs": [],
   "source": [
    "exec_mode = ExecutionMode()\n",
    "exec_context = ExecutionContext()"
   ],
   "metadata": {
    "collapsed": false,
    "pycharm": {
     "name": "#%%\n"
    }
   }
  },
  {
   "cell_type": "code",
   "execution_count": 14,
   "outputs": [
    {
     "ename": "NameError",
     "evalue": "name 'configs' is not defined",
     "output_type": "error",
     "traceback": [
      "\u001B[0;31m---------------------------------------------------------------------------\u001B[0m",
      "\u001B[0;31mNameError\u001B[0m                                 Traceback (most recent call last)",
      "\u001B[0;32m<ipython-input-14-96ef4b335f7e>\u001B[0m in \u001B[0;36m<module>\u001B[0;34m\u001B[0m\n\u001B[0;32m----> 1\u001B[0;31m \u001B[0msimulation\u001B[0m \u001B[0;34m=\u001B[0m \u001B[0mExecutor\u001B[0m\u001B[0;34m(\u001B[0m\u001B[0mexec_context\u001B[0m\u001B[0;34m,\u001B[0m \u001B[0mconfigs\u001B[0m \u001B[0;34m=\u001B[0m \u001B[0mconfigs\u001B[0m\u001B[0;34m)\u001B[0m\u001B[0;34m\u001B[0m\u001B[0;34m\u001B[0m\u001B[0m\n\u001B[0m",
      "\u001B[0;31mNameError\u001B[0m: name 'configs' is not defined"
     ]
    }
   ],
   "source": [
    "# using the cadCAD Executor, the cadCAD simulation Context and the model configuration that we created earlier,\n",
    "# we can now create a simulation Object here.\n",
    "simulation = Executor(exec_context, configs = configs)"
   ],
   "metadata": {
    "collapsed": false,
    "pycharm": {
     "name": "#%%\n"
    }
   }
  },
  {
   "cell_type": "markdown",
   "source": [
    "Time to Simulate our ecosystem model!"
   ],
   "metadata": {
    "collapsed": false,
    "pycharm": {
     "name": "#%% md\n"
    }
   }
  },
  {
   "cell_type": "code",
   "source": [
    "# To run the simulation, we run the execute() function of the simulation object.\n",
    "raw_result, tensor_field, sessions = simulation.execute()"
   ],
   "metadata": {
    "collapsed": false,
    "pycharm": {
     "name": "#%%\n"
    }
   },
   "execution_count": null,
   "outputs": []
  },
  {
   "cell_type": "markdown",
   "source": [
    "#8. SIMULATION OUTPUT PREPARATION\n",
    "The simulation results are returned as a Pandas data-frame. At this stage of the process you will manipulate and\n",
    "analyze your results to answer questions about your model."
   ],
   "metadata": {
    "collapsed": false
   }
  },
  {
   "cell_type": "code",
   "execution_count": null,
   "outputs": [],
   "source": [
    "# we are converting raw_result to a Pandas Dataframe, which allows us to easily analyze rows and columns (just like\n",
    "# a spreadsheet)\n",
    "simulation_result = pd.DataFrame(raw_result)"
   ],
   "metadata": {
    "collapsed": false,
    "pycharm": {
     "name": "#%%\n"
    }
   }
  },
  {
   "cell_type": "markdown",
   "source": [
    "#9. SIMULATION ANALYSIS\n",
    "The purpose of simulation analysis is to make sure that the output data makes sense, and to answer the original questions\n",
    "that were asked during the system requirements phase."
   ],
   "metadata": {
    "collapsed": false
   }
  },
  {
   "cell_type": "code",
   "execution_count": null,
   "outputs": [],
   "source": [
    "#with this, we will be able to use plotly directly with pandas by calling the plot method on our Pandas dataframe.\n",
    "pd.options.plotting.backend = 'plotly'"
   ],
   "metadata": {
    "collapsed": false,
    "pycharm": {
     "name": "#%%\n"
    }
   }
  },
  {
   "cell_type": "code",
   "execution_count": null,
   "outputs": [],
   "source": [
    "simulation_result.plot(kind='line',x='timestep',y=['population','food'])"
   ],
   "metadata": {
    "collapsed": false,
    "pycharm": {
     "name": "#%%\n"
    }
   }
  },
  {
   "cell_type": "code",
   "execution_count": null,
   "outputs": [],
   "source": [
    "pd.set_option('display.max_rows',len(simulation_result))\n",
    "display(simulation_result)"
   ],
   "metadata": {
    "collapsed": false,
    "pycharm": {
     "name": "#%%\n"
    }
   }
  },
  {
   "cell_type": "code",
   "execution_count": null,
   "outputs": [],
   "source": [
    "# https://pandas.pydata.org/pandas-docs/stable/user_guide/indexing.html\n",
    "simulation_result.query('food == 0').head()"
   ],
   "metadata": {
    "collapsed": false,
    "pycharm": {
     "name": "#%%\n"
    }
   }
  },
  {
   "cell_type": "markdown",
   "source": [
    "#SYSTEM VALIDATION PHASE\n",
    "--> Computational experiments (What-if questions)\n",
    "POLICY FUNCTIONS are another core feature of cadCAD.\n",
    "We can use Policy functions to re-factor and improve our model.\n",
    "\n",
    "POLICY FUNCTION : Policy Function describes the logic of a component of a system / or an input to the system, \n",
    "where that input is from outside "
   ],
   "metadata": {
    "collapsed": false
   }
  }
 ],
 "metadata": {
  "kernelspec": {
   "display_name": "Python 3",
   "language": "python",
   "name": "python3"
  },
  "language_info": {
   "codemirror_mode": {
    "name": "ipython",
    "version": 2
   },
   "file_extension": ".py",
   "mimetype": "text/x-python",
   "name": "python",
   "nbconvert_exporter": "python",
   "pygments_lexer": "ipython2",
   "version": "2.7.6"
  }
 },
 "nbformat": 4,
 "nbformat_minor": 0
}