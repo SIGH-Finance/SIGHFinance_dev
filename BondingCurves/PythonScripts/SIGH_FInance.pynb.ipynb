{
 "cells": [
  {
   "cell_type": "markdown",
   "metadata": {
    "collapsed": true
   },
   "source": [
    "# SIGH FINANCE\n",
    "\n",
    "Money-markets as a liquidity driven Fund-Structure to trade/off-set/farm 'Volatility-Risk' of the supported instruments!\n",
    "\n",
    " - ### Volatility Risk Harvests as an Incentive Model <br>\n",
    "   - We calculate the __*'Volatility Risk'*__ of the supported money-markets based upon the current market sentiments, which regulates the __*current harvest rate*__ of the instrument $SIGH.    <br><br>\n",
    "   - __Liquidity Providers__ are incentivized through harvestable __Bear Volatility__ of the underlying market, which is a certain\\% of the total Volatility of the liquidity deposited, when the price of the instrument decreases over a 24 hour period\n",
    "$$Br_i = { {bear} * |\\Delta{Price}| * L_i}    \\quad\\quad if \\quad {P_{current} < P_{clock}}$$ \n",
    "$$Br_i = 0    \\quad \\quad \\quad \\quad \\quad \\quad \\quad\\quad  if \\quad {P_{current} >= P_{clock}}$$ <br>\n",
    "        - These Volatility Harvests are distributed through __Liquidity Streams__, allowing LPs to delegate the Harvested SIGH to another account.\n",
    "        <br><br>\n",
    "   - __Borrowers__ are incentivized through harvestable __Bull Volatility__ of the underlying market, which is a certain\\% of the total Volatility of the total borrows, when the price of the instrument increases over a 24 hour period\n",
    "$$Bl_i = { {bull} * |\\Delta{Price}| * B_i}    \\quad\\quad if \\quad {P_{current} > P_{clock}}$$ \n",
    "$$Bl_i = 0    \\quad \\quad \\quad \\quad \\quad \\quad \\quad\\quad  if \\quad {P_{current} =< P_{clock}}$$  <br>\n",
    "        - These Volatility Harvests are distributed through __Borrowing Streams__, allowing Borrowers to delegate the Harvested SIGH to another account.\n",
    "        <br><br>\n",
    "\n",
    "here,  \n",
    "  - bear : Bear Sentiment ratio of the Market (Avg. number of epoches price has decreased over past 30 days)\n",
    "  - bull : Bull Sentiment ratio of the Market (Avg. number of epoches price has increased over past 30 days)\n",
    "  - $|\\Delta{Price}|$ : Mod of the difference in the Price of the instrument, ($\\Delta{Price}= {P_{current} - P_{clock}} $)\n",
    "  - $L_i$ : Current Compounded Liquidity Balance of the Market\n",
    "  - $B_i$ : Current Compounded Total Borrow Balance of the Market\n",
    "\n",
    "<br><br>\n",
    " - ### $SIGH as an Instrument to off-set Volatility Loss Potential \n",
    " <br>\n",
    "\n",
    "    - __SIGH instrument__ follows a paramtererized yield farming distribution model, where the SIGH distributed per Block is a function of the __total harvestable Volatility__ of the Lending protocol, which is defined as the following : \n",
    "    \n",
    "$$\\text{Protocol's total Harvestable Volatility,} HV_{clock} = { crypto sentiment * ( \\sum_{i=[0,l]} {Br_i} + \\sum_{i=[0,l]} {Bl_i} ) }$$  <br>\n",
    "\n",
    "   - __Maximum Reward Amount__ : We calculate the current possible __Maximum Reward Amount__ in that can be distributed among the LPs and Borrowers for a particular epoch, as the following - \n",
    "\n",
    "$$\\text{Max Rewards Amount,} MR_{clock} = { SIGH Speed * {Pr_{Sigh}} }$$  <br>\n",
    "\n",
    "   - __Harvested Rewards Amount__ : The __Harvested Rewards Amount__ through SIGH farming is calculated as - \n",
    "\n",
    "$$\\text{Harvested Rewards Amount,} HR_{clock} = { Min(HV_{clock},MR_{clock}) }   \\quad\\quad $$  <br>\n",
    "\n",
    "   - __SIGH Harvest speed__ : The current __SIGH Harvest speed__ per block is defined as the following - \n",
    " \n",
    "\n",
    "$$SIGH Harvest Speed_{clock} = { \\frac{HR_{clock}} {{Pr_{Sigh}}} }   \\quad\\quad $$  <br>\n",
    "\n",
    " - __Increase in Circulating Supply of SIGH__: The per block increase in  total Circulaitng SIGH supply as defined as the following - \n",
    "\n",
    "$$\\Delta{Circ. Supply} = { ( 1 +  \\sum_{i=[0,n]}Speed Ratio )  * SIGH Harvest Speed_{clock}  }  $$ \n",
    "\n",
    "\n",
    "\n"
   ]
  },
  {
   "cell_type": "code",
   "execution_count": null,
   "metadata": {},
   "outputs": [],
   "source": []
  }
 ],
 "metadata": {
  "kernelspec": {
   "display_name": "Python 3",
   "language": "python",
   "name": "python3"
  },
  "language_info": {
   "codemirror_mode": {
    "name": "ipython",
    "version": 3
   },
   "file_extension": ".py",
   "mimetype": "text/x-python",
   "name": "python",
   "nbconvert_exporter": "python",
   "pygments_lexer": "ipython3",
   "version": "3.7.4"
  }
 },
 "nbformat": 4,
 "nbformat_minor": 1
}